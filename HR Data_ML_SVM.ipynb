{
 "cells": [
  {
   "cell_type": "code",
   "execution_count": 1,
   "id": "c043988a",
   "metadata": {},
   "outputs": [],
   "source": [
    "import numpy as np\n",
    "import pandas as pd\n",
    "import matplotlib.pyplot as plt\n",
    "import seaborn as sns\n",
    "%matplotlib inline"
   ]
  },
  {
   "cell_type": "code",
   "execution_count": 2,
   "id": "30baae21",
   "metadata": {},
   "outputs": [],
   "source": [
    "from sklearn.model_selection import train_test_split\n",
    "from sklearn.svm import SVC\n",
    "from sklearn.metrics import roc_auc_score\n",
    "from sklearn.model_selection import cross_validate,cross_val_score,KFold,StratifiedKFold,GridSearchCV\n",
    "from sklearn.preprocessing import StandardScaler,minmax_scale"
   ]
  },
  {
   "cell_type": "markdown",
   "id": "30452851",
   "metadata": {},
   "source": [
    "### Datasets"
   ]
  },
  {
   "cell_type": "code",
   "execution_count": 3,
   "id": "ca37fb1b",
   "metadata": {},
   "outputs": [],
   "source": [
    "HR = pd.read_csv('C:/Users/Nithin/Downloads/ML_DT/HR_comma_sep.csv')"
   ]
  },
  {
   "cell_type": "markdown",
   "id": "f597e8dd",
   "metadata": {},
   "source": [
    "### Data Prep"
   ]
  },
  {
   "cell_type": "code",
   "execution_count": 4,
   "id": "c51bf140",
   "metadata": {},
   "outputs": [
    {
     "name": "stdout",
     "output_type": "stream",
     "text": [
      "<class 'pandas.core.frame.DataFrame'>\n",
      "RangeIndex: 14999 entries, 0 to 14998\n",
      "Data columns (total 10 columns):\n",
      " #   Column                 Non-Null Count  Dtype  \n",
      "---  ------                 --------------  -----  \n",
      " 0   satisfaction_level     14999 non-null  float64\n",
      " 1   last_evaluation        14999 non-null  float64\n",
      " 2   number_project         14999 non-null  int64  \n",
      " 3   average_montly_hours   14999 non-null  int64  \n",
      " 4   time_spend_company     14999 non-null  int64  \n",
      " 5   Work_accident          14999 non-null  int64  \n",
      " 6   left                   14999 non-null  int64  \n",
      " 7   promotion_last_5years  14999 non-null  int64  \n",
      " 8   department             14999 non-null  object \n",
      " 9   salary                 14999 non-null  object \n",
      "dtypes: float64(2), int64(6), object(2)\n",
      "memory usage: 1.1+ MB\n"
     ]
    }
   ],
   "source": [
    "HR.info()"
   ]
  },
  {
   "cell_type": "code",
   "execution_count": 5,
   "id": "c09f85af",
   "metadata": {},
   "outputs": [
    {
     "data": {
      "text/plain": [
       "satisfaction_level       0\n",
       "last_evaluation          0\n",
       "number_project           0\n",
       "average_montly_hours     0\n",
       "time_spend_company       0\n",
       "Work_accident            0\n",
       "left                     0\n",
       "promotion_last_5years    0\n",
       "department               0\n",
       "salary                   0\n",
       "dtype: int64"
      ]
     },
     "execution_count": 5,
     "metadata": {},
     "output_type": "execute_result"
    }
   ],
   "source": [
    "HR.isna().sum()"
   ]
  },
  {
   "cell_type": "code",
   "execution_count": 6,
   "id": "d93cee7f",
   "metadata": {},
   "outputs": [],
   "source": [
    "#Ordinal Label Encoding\n",
    "HR.salary = np.where(HR.salary == 'low',1,\n",
    "            np.where(HR.salary == 'medium',2,3))"
   ]
  },
  {
   "cell_type": "code",
   "execution_count": 7,
   "id": "36c4b4a3",
   "metadata": {},
   "outputs": [],
   "source": [
    "#One hot encoding\n",
    "HR.department.value_counts()\n",
    "\n",
    "dummy_df = pd.get_dummies(HR.department,drop_first=True,prefix='Dept')"
   ]
  },
  {
   "cell_type": "code",
   "execution_count": 8,
   "id": "3216ff94",
   "metadata": {},
   "outputs": [],
   "source": [
    "HR = pd.concat([HR,dummy_df],axis=1)\n",
    "del HR['department']"
   ]
  },
  {
   "cell_type": "markdown",
   "id": "ef8f233b",
   "metadata": {},
   "source": [
    "### Train & Test Model"
   ]
  },
  {
   "cell_type": "code",
   "execution_count": 9,
   "id": "8e5c4fe7",
   "metadata": {},
   "outputs": [],
   "source": [
    "feat = ['satisfaction_level', 'last_evaluation', 'number_project',\n",
    "       'average_montly_hours', 'time_spend_company', 'Work_accident',\n",
    "       'promotion_last_5years', 'salary', 'Dept_RandD', 'Dept_accounting',\n",
    "       'Dept_hr', 'Dept_management', 'Dept_marketing', 'Dept_product_mng',\n",
    "       'Dept_sales', 'Dept_support', 'Dept_technical']"
   ]
  },
  {
   "cell_type": "code",
   "execution_count": 10,
   "id": "bfe3611e",
   "metadata": {},
   "outputs": [],
   "source": [
    "train_x,test_x,train_y,test_y = train_test_split(HR[feat],HR['left'],test_size=0.3,random_state=12345)"
   ]
  },
  {
   "cell_type": "markdown",
   "id": "2f43febc",
   "metadata": {},
   "source": [
    "### Without Hyperparameter Tuning"
   ]
  },
  {
   "cell_type": "code",
   "execution_count": 11,
   "id": "cffe3cc2",
   "metadata": {},
   "outputs": [
    {
     "data": {
      "text/plain": [
       "SVC(C=1, probability=True)"
      ]
     },
     "execution_count": 11,
     "metadata": {},
     "output_type": "execute_result"
    }
   ],
   "source": [
    "svc = SVC(C=1,probability=True)\n",
    "\n",
    "svc.fit(train_x,train_y)"
   ]
  },
  {
   "cell_type": "code",
   "execution_count": 12,
   "id": "ab007cd3",
   "metadata": {},
   "outputs": [
    {
     "data": {
      "text/plain": [
       "0.8047502182040569"
      ]
     },
     "execution_count": 12,
     "metadata": {},
     "output_type": "execute_result"
    }
   ],
   "source": [
    "train_pred = pd.DataFrame(svc.predict_proba(train_x))[1]\n",
    "roc_auc_score(train_y,train_pred)"
   ]
  },
  {
   "cell_type": "code",
   "execution_count": 13,
   "id": "de9224dd",
   "metadata": {},
   "outputs": [
    {
     "data": {
      "text/plain": [
       "0.8125346467816492"
      ]
     },
     "execution_count": 13,
     "metadata": {},
     "output_type": "execute_result"
    }
   ],
   "source": [
    "test_pred = pd.DataFrame(svc.predict_proba(test_x))[1]\n",
    "roc_auc_score(test_y,test_pred)"
   ]
  },
  {
   "cell_type": "markdown",
   "id": "5756e7ad",
   "metadata": {},
   "source": [
    "### With Hyperparameter Tuning"
   ]
  },
  {
   "cell_type": "code",
   "execution_count": 14,
   "id": "50061c2f",
   "metadata": {},
   "outputs": [],
   "source": [
    "params = {'C':[0.1,1,10,100,100],\n",
    "          'gamma':[0.0001,0.001,0.01,1],\n",
    "          'kernel':['linear', 'poly', 'rbf', 'sigmoid']}"
   ]
  },
  {
   "cell_type": "code",
   "execution_count": null,
   "id": "c908df32",
   "metadata": {},
   "outputs": [],
   "source": [
    "%time svc_H = GridSearchCV(SVC(), param_grid=params, cv=5, scoring = 'roc_auc')"
   ]
  },
  {
   "cell_type": "code",
   "execution_count": null,
   "id": "e8f6877d",
   "metadata": {},
   "outputs": [],
   "source": [
    "%time svc_H.fit(train_x,train_y)"
   ]
  },
  {
   "cell_type": "code",
   "execution_count": null,
   "id": "8257e0cc",
   "metadata": {},
   "outputs": [],
   "source": [
    "svc_H.best_params_"
   ]
  },
  {
   "cell_type": "code",
   "execution_count": 15,
   "id": "46750284",
   "metadata": {},
   "outputs": [
    {
     "data": {
      "text/plain": [
       "SVC(C=10, gamma=0.001, kernel='sigmoid', probability=True)"
      ]
     },
     "execution_count": 15,
     "metadata": {},
     "output_type": "execute_result"
    }
   ],
   "source": [
    "svc = SVC(C=10,gamma= 0.001,kernel='sigmoid',probability=True)\n",
    "\n",
    "svc.fit(train_x,train_y)"
   ]
  },
  {
   "cell_type": "code",
   "execution_count": null,
   "id": "d312a4fc",
   "metadata": {},
   "outputs": [],
   "source": [
    "train_pred = pd.DataFrame(svc.predict_proba(train_x))[1]\n",
    "roc_auc_score(train_y,train_pred)"
   ]
  },
  {
   "cell_type": "code",
   "execution_count": null,
   "id": "e5405034",
   "metadata": {},
   "outputs": [],
   "source": [
    "test_pred = pd.DataFrame(svc.predict_proba(test_x))[1]\n",
    "roc_auc_score(test_y,test_pred)"
   ]
  }
 ],
 "metadata": {
  "kernelspec": {
   "display_name": "Python 3 (ipykernel)",
   "language": "python",
   "name": "python3"
  },
  "language_info": {
   "codemirror_mode": {
    "name": "ipython",
    "version": 3
   },
   "file_extension": ".py",
   "mimetype": "text/x-python",
   "name": "python",
   "nbconvert_exporter": "python",
   "pygments_lexer": "ipython3",
   "version": "3.9.7"
  }
 },
 "nbformat": 4,
 "nbformat_minor": 5
}
